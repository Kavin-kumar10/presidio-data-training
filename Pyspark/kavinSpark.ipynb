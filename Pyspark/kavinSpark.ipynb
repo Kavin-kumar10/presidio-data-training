{
 "cells": [
  {
   "cell_type": "code",
   "execution_count": 3,
   "id": "d43b68bf-3f71-4252-8835-87f1fd392913",
   "metadata": {},
   "outputs": [],
   "source": [
    "import findspark\n",
    "findspark.init()"
   ]
  },
  {
   "cell_type": "code",
   "execution_count": 4,
   "id": "92a5c016-6afc-4234-baa0-cc91417308de",
   "metadata": {},
   "outputs": [],
   "source": [
    "from pyspark.sql import SparkSession\n",
    "import pyspark.sql.functions as F\n",
    "from pyspark.sql import types \n",
    "from pyspark.sql.window import Window"
   ]
  },
  {
   "cell_type": "code",
   "execution_count": 5,
   "id": "27401c13-df63-4378-9edd-6e0a732f42f6",
   "metadata": {},
   "outputs": [],
   "source": [
    "spark = SparkSession.builder.appName(\"covid\").getOrCreate()\n",
    "filepath = \"complete.csv\""
   ]
  },
  {
   "cell_type": "code",
   "execution_count": 9,
   "id": "0738ad56-2270-48a9-ab10-d256550a4f85",
   "metadata": {},
   "outputs": [],
   "source": [
    "df_csv = spark.read.format(\"csv\") \\\n",
    "            .option(\"header\", True) \\\n",
    "            .option(\"multiLine\", True) \\\n",
    "            .option(\"ignoreLeadingWhiteSpace\",True) \\\n",
    "            .option(\"ignoreTrailingWhiteSpace\",True) \\\n",
    "            .option(\"escape\", \"\\\\\") \\\n",
    "            .option(\"quote\", \"\\\"\") \\\n",
    "            .load(filepath)"
   ]
  },
  {
   "cell_type": "code",
   "execution_count": 7,
   "id": "dab9e00e-8ab4-4564-a880-76486675a8d7",
   "metadata": {},
   "outputs": [
    {
     "name": "stdout",
     "output_type": "stream",
     "text": [
      "root\n",
      " |-- Date: string (nullable = true)\n",
      " |-- Name of State / UT: string (nullable = true)\n",
      " |-- Latitude: string (nullable = true)\n",
      " |-- Longitude: string (nullable = true)\n",
      " |-- Total Confirmed cases: string (nullable = true)\n",
      " |-- Death: string (nullable = true)\n",
      " |-- Cured/Discharged/Migrated: string (nullable = true)\n",
      " |-- New cases: string (nullable = true)\n",
      " |-- New deaths: string (nullable = true)\n",
      " |-- New recovered: string (nullable = true)\n",
      "\n"
     ]
    }
   ],
   "source": [
    "df_csv.printSchema()"
   ]
  },
  {
   "cell_type": "code",
   "execution_count": 7,
   "id": "071be285-2a23-4e53-a799-acfb71105994",
   "metadata": {},
   "outputs": [
    {
     "name": "stdout",
     "output_type": "stream",
     "text": [
      "root\n",
      " |-- Date: string (nullable = true)\n",
      " |-- Name of State / UT: string (nullable = true)\n",
      " |-- Latitude: string (nullable = true)\n",
      " |-- Longitude: string (nullable = true)\n",
      " |-- Total Confirmed cases: string (nullable = true)\n",
      " |-- Death: string (nullable = true)\n",
      " |-- Cured/Discharged/Migrated: string (nullable = true)\n",
      " |-- New cases: string (nullable = true)\n",
      " |-- New deaths: string (nullable = true)\n",
      " |-- New recovered: string (nullable = true)\n",
      " |-- total_case: long (nullable = true)\n",
      " |-- total_newly_recovered: long (nullable = true)\n",
      " |-- state: string (nullable = true)\n",
      " |-- death_Case: long (nullable = true)\n",
      "\n"
     ]
    }
   ],
   "source": [
    "df_csv = df_csv.withColumn(\"total_case\", df_csv[\"Total Confirmed cases\"].cast(types.LongType()))\n",
    "df_csv = df_csv.withColumn(\"total_newly_recovered\", df_csv[\"New recovered\"].cast(types.LongType()))\n",
    "df_csv = df_csv.withColumn(\"state\", df_csv[\"Name of State / UT\"].cast(types.StringType()))\n",
    "df_csv = df_csv.withColumn(\"death_Case\", df_csv[\"Death\"].cast(types.LongType()))\n",
    "df_csv.printSchema()"
   ]
  },
  {
   "cell_type": "code",
   "execution_count": 10,
   "id": "f37e271c-586f-4372-ab2b-13a5e493ec3e",
   "metadata": {},
   "outputs": [
    {
     "name": "stdout",
     "output_type": "stream",
     "text": [
      "+----------+------------------+--------+---------+---------------------+-----+-------------------------+---------+----------+-------------+\n",
      "|      Date|Name of State / UT|Latitude|Longitude|Total Confirmed cases|Death|Cured/Discharged/Migrated|New cases|New deaths|New recovered|\n",
      "+----------+------------------+--------+---------+---------------------+-----+-------------------------+---------+----------+-------------+\n",
      "|2020-01-30|            Kerala| 10.8505|  76.2711|                  1.0|    0|                      0.0|        0|         0|            0|\n",
      "|2020-01-31|            Kerala| 10.8505|  76.2711|                  1.0|    0|                      0.0|        0|         0|            0|\n",
      "|2020-02-01|            Kerala| 10.8505|  76.2711|                  2.0|    0|                      0.0|        1|         0|            0|\n",
      "|2020-02-02|            Kerala| 10.8505|  76.2711|                  3.0|    0|                      0.0|        1|         0|            0|\n",
      "|2020-02-03|            Kerala| 10.8505|  76.2711|                  3.0|    0|                      0.0|        0|         0|            0|\n",
      "|2020-02-04|            Kerala| 10.8505|  76.2711|                  3.0|    0|                      0.0|        0|         0|            0|\n",
      "|2020-02-05|            Kerala| 10.8505|  76.2711|                  3.0|    0|                      0.0|        0|         0|            0|\n",
      "|2020-02-06|            Kerala| 10.8505|  76.2711|                  3.0|    0|                      0.0|        0|         0|            0|\n",
      "|2020-02-07|            Kerala| 10.8505|  76.2711|                  3.0|    0|                      0.0|        0|         0|            0|\n",
      "|2020-02-08|            Kerala| 10.8505|  76.2711|                  3.0|    0|                      0.0|        0|         0|            0|\n",
      "|2020-02-09|            Kerala| 10.8505|  76.2711|                  3.0|    0|                      0.0|        0|         0|            0|\n",
      "|2020-02-10|            Kerala| 10.8505|  76.2711|                  3.0|    0|                      0.0|        0|         0|            0|\n",
      "|2020-02-11|            Kerala| 10.8505|  76.2711|                  3.0|    0|                      0.0|        0|         0|            0|\n",
      "|2020-02-12|            Kerala| 10.8505|  76.2711|                  3.0|    0|                      0.0|        0|         0|            0|\n",
      "|2020-02-13|            Kerala| 10.8505|  76.2711|                  3.0|    0|                      0.0|        0|         0|            0|\n",
      "|2020-02-14|            Kerala| 10.8505|  76.2711|                  3.0|    0|                      0.0|        0|         0|            0|\n",
      "|2020-02-15|            Kerala| 10.8505|  76.2711|                  3.0|    0|                      0.0|        0|         0|            0|\n",
      "|2020-02-16|            Kerala| 10.8505|  76.2711|                  3.0|    0|                      0.0|        0|         0|            0|\n",
      "|2020-02-17|            Kerala| 10.8505|  76.2711|                  3.0|    0|                      0.0|        0|         0|            0|\n",
      "|2020-02-18|            Kerala| 10.8505|  76.2711|                  3.0|    0|                      0.0|        0|         0|            0|\n",
      "+----------+------------------+--------+---------+---------------------+-----+-------------------------+---------+----------+-------------+\n",
      "only showing top 20 rows\n",
      "\n"
     ]
    }
   ],
   "source": [
    "df_csv.show()"
   ]
  },
  {
   "cell_type": "code",
   "execution_count": 11,
   "id": "bf1c0e4e-18c0-4bea-95a6-1faf0bee9ce1",
   "metadata": {},
   "outputs": [
    {
     "name": "stdout",
     "output_type": "stream",
     "text": [
      "+----------+------------------+--------+---------+---------------------+-----+-------------------------+---------+----------+-------------+\n",
      "|      Date|Name of State / UT|Latitude|Longitude|Total Confirmed cases|Death|Cured/Discharged/Migrated|New cases|New deaths|New recovered|\n",
      "+----------+------------------+--------+---------+---------------------+-----+-------------------------+---------+----------+-------------+\n",
      "|2020-01-30|            kerala| 10.8505|  76.2711|                  1.0|    0|                      0.0|        0|         0|            0|\n",
      "|2020-01-31|            kerala| 10.8505|  76.2711|                  1.0|    0|                      0.0|        0|         0|            0|\n",
      "|2020-02-01|            kerala| 10.8505|  76.2711|                  2.0|    0|                      0.0|        1|         0|            0|\n",
      "|2020-02-02|            kerala| 10.8505|  76.2711|                  3.0|    0|                      0.0|        1|         0|            0|\n",
      "|2020-02-03|            kerala| 10.8505|  76.2711|                  3.0|    0|                      0.0|        0|         0|            0|\n",
      "|2020-02-04|            kerala| 10.8505|  76.2711|                  3.0|    0|                      0.0|        0|         0|            0|\n",
      "|2020-02-05|            kerala| 10.8505|  76.2711|                  3.0|    0|                      0.0|        0|         0|            0|\n",
      "|2020-02-06|            kerala| 10.8505|  76.2711|                  3.0|    0|                      0.0|        0|         0|            0|\n",
      "|2020-02-07|            kerala| 10.8505|  76.2711|                  3.0|    0|                      0.0|        0|         0|            0|\n",
      "|2020-02-08|            kerala| 10.8505|  76.2711|                  3.0|    0|                      0.0|        0|         0|            0|\n",
      "|2020-02-09|            kerala| 10.8505|  76.2711|                  3.0|    0|                      0.0|        0|         0|            0|\n",
      "|2020-02-10|            kerala| 10.8505|  76.2711|                  3.0|    0|                      0.0|        0|         0|            0|\n",
      "|2020-02-11|            kerala| 10.8505|  76.2711|                  3.0|    0|                      0.0|        0|         0|            0|\n",
      "|2020-02-12|            kerala| 10.8505|  76.2711|                  3.0|    0|                      0.0|        0|         0|            0|\n",
      "|2020-02-13|            kerala| 10.8505|  76.2711|                  3.0|    0|                      0.0|        0|         0|            0|\n",
      "|2020-02-14|            kerala| 10.8505|  76.2711|                  3.0|    0|                      0.0|        0|         0|            0|\n",
      "|2020-02-15|            kerala| 10.8505|  76.2711|                  3.0|    0|                      0.0|        0|         0|            0|\n",
      "|2020-02-16|            kerala| 10.8505|  76.2711|                  3.0|    0|                      0.0|        0|         0|            0|\n",
      "|2020-02-17|            kerala| 10.8505|  76.2711|                  3.0|    0|                      0.0|        0|         0|            0|\n",
      "|2020-02-18|            kerala| 10.8505|  76.2711|                  3.0|    0|                      0.0|        0|         0|            0|\n",
      "+----------+------------------+--------+---------+---------------------+-----+-------------------------+---------+----------+-------------+\n",
      "only showing top 20 rows\n",
      "\n"
     ]
    }
   ],
   "source": [
    "# First Task convert all the state to lower case\n",
    "from pyspark.sql.functions import lower\n",
    "output_df_csv = df_csv.withColumn(\"Name of State / UT\", lower(\"Name of State / UT\"))\n",
    "output_df_csv.show()"
   ]
  },
  {
   "cell_type": "code",
   "execution_count": 44,
   "id": "2856390e-7d17-480f-a1fd-c7b5742711c7",
   "metadata": {},
   "outputs": [
    {
     "name": "stdout",
     "output_type": "stream",
     "text": [
      "The day with the highest number of cases is: 2020-08-06 with 1964536 cases.\n"
     ]
    }
   ],
   "source": [
    "# 2nd Get the day with most covid cases\n",
    "\n",
    "from pyspark.sql import functions as F\n",
    "output_df_csv = df_csv.withColumn(\"Total Confirmed cases\", df_csv[\"Total Confirmed cases\"].cast(\"long\"))\n",
    "cases_by_day = output_df_csv.groupBy(\"Date\").agg(F.sum(\"Total Confirmed cases\").alias(\"Total_Cases_Per_Day\"))\n",
    "max_cases_day = cases_by_day.orderBy(F.desc(\"Total_Cases_Per_Day\")).first()\n",
    "print(f\"The day with the highest number of cases is: {max_cases_day['Date']} with {max_cases_day['Total_Cases_Per_Day']} cases.\")"
   ]
  },
  {
   "cell_type": "code",
   "execution_count": 45,
   "id": "872fab1a-c614-4e4a-9d5c-cff897aba32a",
   "metadata": {},
   "outputs": [
    {
     "name": "stdout",
     "output_type": "stream",
     "text": [
      "+------------------+--------------+\n",
      "|Name of State / UT|sum_total_case|\n",
      "+------------------+--------------+\n",
      "|        Tamil Nadu|       7847083|\n",
      "+------------------+--------------+\n",
      "\n"
     ]
    }
   ],
   "source": [
    "# 3rd The state that has the second largest number of covid cases\n",
    "output_df_csv = df_csv.withColumn(\"Total Confirmed cases\", df_csv[\"Total Confirmed cases\"].cast(\"long\"))\n",
    "output_df_1 = output_df_csv.groupBy(\"Name of State / UT\").agg(F.sum(\"Total Confirmed cases\").alias(\"sum_total_case\"))\n",
    "window_spec = Window.orderBy(F.col(\"sum_total_case\").desc())\n",
    "output_df_1 = output_df_1.withColumn(\"recency\", F.row_number().over(window_spec)).filter(F.col('recency') == 2).drop('recency')\n",
    "output_df_1.show()"
   ]
  },
  {
   "cell_type": "code",
   "execution_count": 47,
   "id": "e0c9a8d2-d8fb-408b-97a7-f3e1f229d6d2",
   "metadata": {},
   "outputs": [
    {
     "name": "stdout",
     "output_type": "stream",
     "text": [
      "+--------------------+-------------------+\n",
      "|  Name of State / UT|Total_Deaths_Per_UT|\n",
      "+--------------------+-------------------+\n",
      "|Union Territory o...|                  0|\n",
      "+--------------------+-------------------+\n",
      "\n"
     ]
    }
   ],
   "source": [
    "# 4th to get the least covid cases in union territories \n",
    "output_df_csv = df_csv.withColumn(\"Death\", df_csv[\"Death\"].cast(\"long\"))\n",
    "df_ut = output_df_csv.filter(F.col(\"Name of State / UT\").like(\"Union Territory%\"))\n",
    "death_by_ut = df_ut.groupBy(\"Name of State / UT\").agg(F.sum(\"Death\").alias(\"Total_Deaths_Per_UT\"))\n",
    "window_spec = Window.orderBy(F.col(\"Total_Deaths_Per_UT\").asc())\n",
    "least_deaths_ut = death_by_ut.withColumn(\"rank\", F.row_number().over(window_spec)).filter(F.col('rank') == 1).drop('rank')\n",
    "least_deaths_ut.show()\n"
   ]
  },
  {
   "cell_type": "code",
   "execution_count": 12,
   "id": "2c2cf911-c021-494c-8421-5fe6191a60d8",
   "metadata": {},
   "outputs": [
    {
     "name": "stdout",
     "output_type": "stream",
     "text": [
      "+------------------+------------+---------------------+------------------------+\n",
      "|Name of State / UT|Total_Deaths|Total_Confirmed_Cases|Death_to_Confirmed_Ratio|\n",
      "+------------------+------------+---------------------+------------------------+\n",
      "|           Mizoram|         0.0|              13335.0|                     0.0|\n",
      "+------------------+------------+---------------------+------------------------+\n",
      "\n"
     ]
    }
   ],
   "source": [
    "# 5th state has the lowest death to the total confirmed cases ratio\n",
    "\n",
    "output_df_csv = df_csv.withColumn(\"Death\", df_csv[\"Death\"].cast(\"long\"))\n",
    "output_df_csv = df_csv.withColumn(\"Total Confirmed cases\", df_csv[\"Total Confirmed cases\"].cast(\"long\"))\n",
    "state_stats = df_csv.groupBy(\"Name of State / UT\").agg(\n",
    "    F.sum(\"Death\").alias(\"Total_Deaths\"),\n",
    "    F.sum(\"Total Confirmed cases\").alias(\"Total_Confirmed_Cases\")\n",
    ")\n",
    "state_stats = state_stats.withColumn(\"Death_to_Confirmed_Ratio\", F.col(\"Total_Deaths\") / F.col(\"Total_Confirmed_Cases\"))\n",
    "window_spec = Window.orderBy(F.col(\"Death_to_Confirmed_Ratio\").asc())\n",
    "lowest_ratio_state = state_stats.withColumn(\"rank\", F.row_number().over(window_spec)).filter(F.col('rank') == 1).drop('rank')\n",
    "lowest_ratio_state.show()\n"
   ]
  },
  {
   "cell_type": "code",
   "execution_count": 13,
   "id": "f31e76f4-ad21-4a9b-98d9-21dd30466c78",
   "metadata": {},
   "outputs": [
    {
     "name": "stdout",
     "output_type": "stream",
     "text": [
      "+------------------+------------+---------------------+------------------------+\n",
      "|Name of State / UT|Total_Deaths|Total_Confirmed_Cases|Death_to_Confirmed_Ratio|\n",
      "+------------------+------------+---------------------+------------------------+\n",
      "|           Mizoram|         0.0|              13335.0|                     0.0|\n",
      "+------------------+------------+---------------------+------------------------+\n",
      "\n"
     ]
    }
   ],
   "source": [
    "# 5th The state has the lowest death to Total confirmed case ratio\n",
    "output_df_csv = df_csv.withColumn(\"Death\", df_csv[\"Death\"].cast(\"long\"))\n",
    "output_df_csv = df_csv.withColumn(\"Total Confirmed cases\", df_csv[\"Total Confirmed cases\"].cast(\"long\"))\n",
    "state_stats = df_csv.groupBy(\"Name of State / UT\").agg(\n",
    "    F.sum(\"Death\").alias(\"Total_Deaths\"),\n",
    "    F.sum(\"Total Confirmed cases\").alias(\"Total_Confirmed_Cases\")\n",
    ")\n",
    "state_stats = state_stats.withColumn(\"Death_to_Confirmed_Ratio\", F.col(\"Total_Deaths\") / F.col(\"Total_Confirmed_Cases\"))\n",
    "window_spec = Window.orderBy(F.col(\"Death_to_Confirmed_Ratio\").asc())\n",
    "lowest_ratio_state = state_stats.withColumn(\"rank\", F.row_number().over(window_spec)).filter(F.col('rank') == 1).drop('rank')\n",
    "lowest_ratio_state.show()"
   ]
  },
  {
   "cell_type": "code",
   "execution_count": 14,
   "id": "8a339879-4f06-4af3-a430-c3cc50b741a0",
   "metadata": {},
   "outputs": [
    {
     "name": "stdout",
     "output_type": "stream",
     "text": [
      "+-----+-------------------+----------+\n",
      "|Month|Total_New_Recovered|Month_Name|\n",
      "+-----+-------------------+----------+\n",
      "|7    |722983             |July      |\n",
      "+-----+-------------------+----------+\n",
      "\n"
     ]
    }
   ],
   "source": [
    "# 6th To Find which month the Newer recovered cases.\n",
    "\n",
    "df_recovered = df_csv.withColumn(\"New recovered\", df_csv[\"New recovered\"].cast(\"long\"))\n",
    "df_recovered = df_recovered.withColumn(\"Month\", F.month(F.to_date(F.col(\"Date\"), \"yyyy-MM-dd\")))\n",
    "recovered_by_month = df_recovered.groupBy(\"Month\").agg(\n",
    "    F.sum(\"New recovered\").alias(\"Total_New_Recovered\")\n",
    ")\n",
    "window_spec = Window.orderBy(F.col(\"Total_New_Recovered\").desc())\n",
    "top_recovered_month = recovered_by_month.withColumn(\"rank\", F.row_number().over(window_spec)).filter(F.col('rank') == 1)\n",
    "month_names = {\n",
    "    1: \"January\", 2: \"February\", 3: \"March\", 4: \"April\", 5: \"May\", 6: \"June\",\n",
    "    7: \"July\", 8: \"August\", 9: \"September\", 10: \"October\", 11: \"November\", 12: \"December\"\n",
    "}\n",
    "top_recovered_month = top_recovered_month.withColumn(\n",
    "    \"Month_Name\",\n",
    "    F.expr(\"CASE Month \" +\n",
    "           \"WHEN 1 THEN 'January' \" +\n",
    "           \"WHEN 2 THEN 'February' \" +\n",
    "           \"WHEN 3 THEN 'March' \" +\n",
    "           \"WHEN 4 THEN 'April' \" +\n",
    "           \"WHEN 5 THEN 'May' \" +\n",
    "           \"WHEN 6 THEN 'June' \" +\n",
    "           \"WHEN 7 THEN 'July' \" +\n",
    "           \"WHEN 8 THEN 'August' \" +\n",
    "           \"WHEN 9 THEN 'September' \" +\n",
    "           \"WHEN 10 THEN 'October' \" +\n",
    "           \"WHEN 11 THEN 'November' \" +\n",
    "           \"WHEN 12 THEN 'December' \" +\n",
    "           \"END\"\n",
    "    )\n",
    ")\n",
    "top_recovered_month = top_recovered_month.drop(\"rank\")\n",
    "top_recovered_month.show(truncate=False)\n"
   ]
  },
  {
   "cell_type": "code",
   "execution_count": null,
   "id": "bb9ab46f-752f-4336-b3d1-6d344bae3ede",
   "metadata": {},
   "outputs": [],
   "source": []
  }
 ],
 "metadata": {
  "kernelspec": {
   "display_name": "Python 3 (ipykernel)",
   "language": "python",
   "name": "python3"
  },
  "language_info": {
   "codemirror_mode": {
    "name": "ipython",
    "version": 3
   },
   "file_extension": ".py",
   "mimetype": "text/x-python",
   "name": "python",
   "nbconvert_exporter": "python",
   "pygments_lexer": "ipython3",
   "version": "3.12.4"
  }
 },
 "nbformat": 4,
 "nbformat_minor": 5
}
